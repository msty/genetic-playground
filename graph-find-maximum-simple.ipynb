{
 "cells": [
  {
   "cell_type": "markdown",
   "metadata": {},
   "source": [
    "Genetic algorithm for finding maximum of a simple function."
   ]
  },
  {
   "cell_type": "code",
   "execution_count": 128,
   "metadata": {},
   "outputs": [
    {
     "data": {
      "text/html": [
       "<img src=\"graph.png\" width=\"400\" height=\"400\"/>"
      ],
      "text/plain": [
       "<IPython.core.display.Image object>"
      ]
     },
     "execution_count": 128,
     "metadata": {},
     "output_type": "execute_result"
    }
   ],
   "source": [
    "from IPython.display import Image\n",
    "from IPython.core.display import HTML \n",
    "Image(url= \"graph.png\", width=400, height=400)\n",
    "# paper https://www.whitman.edu/Documents/Academics/Mathematics/2014/carrjk.pdf"
   ]
  },
  {
   "cell_type": "code",
   "execution_count": 129,
   "metadata": {},
   "outputs": [],
   "source": [
    "from random import randrange, choices"
   ]
  },
  {
   "cell_type": "code",
   "execution_count": 130,
   "metadata": {},
   "outputs": [],
   "source": [
    "def create_population(psize):\n",
    "    pb = []\n",
    "    for i in range(psize):\n",
    "        pb.append(format(randrange(31), '05b'))\n",
    "        \n",
    "    return pb"
   ]
  },
  {
   "cell_type": "code",
   "execution_count": 131,
   "metadata": {},
   "outputs": [],
   "source": [
    "def object_fitness(x):\n",
    "    return (-1 * x * x) / 10 + 3 * x\n",
    "\n",
    "def calculate_fitness(pb):\n",
    "    f = []\n",
    "    for i in range(len(pb)):\n",
    "        f.append(object_fitness(int(pb[i], 2)))\n",
    "        \n",
    "    return f"
   ]
  },
  {
   "cell_type": "code",
   "execution_count": 132,
   "metadata": {},
   "outputs": [],
   "source": [
    "# calculating cumulative mating chances, since this is a way to speed up random.choices() function\n",
    "def calculate_cum_mating_chances(f):\n",
    "    mating_chances = []\n",
    "    sum_fitness = sum(f)\n",
    "    intermediate_sum = 0\n",
    "\n",
    "    for i in range(len(pb)):\n",
    "        intermediate_sum += round(100 * f[i] / sum_fitness)\n",
    "        mating_chances.append(intermediate_sum)\n",
    "    \n",
    "    return mating_chances"
   ]
  },
  {
   "cell_type": "code",
   "execution_count": 133,
   "metadata": {},
   "outputs": [
    {
     "data": {
      "text/html": [
       "<img src=\"mating.png\" width=\"400\" height=\"400\"/>"
      ],
      "text/plain": [
       "<IPython.core.display.Image object>"
      ]
     },
     "execution_count": 133,
     "metadata": {},
     "output_type": "execute_result"
    }
   ],
   "source": [
    "Image(url= \"mating.png\", width=400, height=400)"
   ]
  },
  {
   "cell_type": "code",
   "execution_count": 134,
   "metadata": {},
   "outputs": [],
   "source": [
    "def mate(pb, mating_chances):\n",
    "    psize = len(pb)\n",
    "    parent_per_mating = 2\n",
    "    offsprings = []\n",
    "    for i in range(round(psize/parent_per_mating)):\n",
    "        parent1 = choices(range(psize), cum_weights=mating_chances, k=1)[0]\n",
    "        parent2 = choices(range(psize), cum_weights=mating_chances, k=1)[0]    \n",
    "        while parent1 == parent2:\n",
    "            parent2 = choices(range(psize), cum_weights=mating_chances, k=1)[0]\n",
    "\n",
    "        cut = randrange(1, 4)\n",
    "        offspring1 = pb[parent1][0:cut] + pb[parent2][cut:]\n",
    "        offspring2 = pb[parent2][0:cut] + pb[parent1][cut:]\n",
    "        #print(pb[parent1], pb[parent2], cut, offspring1, offspring2);\n",
    "        offsprings.append(offspring1)\n",
    "        offsprings.append(offspring2)\n",
    "    \n",
    "    return offsprings"
   ]
  },
  {
   "cell_type": "code",
   "execution_count": 135,
   "metadata": {},
   "outputs": [],
   "source": [
    "def mutate(pb):\n",
    "    for i in range(len(pb)):\n",
    "        for j in range(4):\n",
    "            if randrange(100) <= 1:\n",
    "                print(\"mutating bit \" + str(j) + \" of \" + pb[i])\n",
    "                temp = list(pb[i])\n",
    "                temp[j] = \"0\" if temp[j] == \"1\" else \"1\"\n",
    "                pb[i] = ''.join(temp)\n",
    "                print(pb[i])\n",
    "    \n",
    "    return pb"
   ]
  },
  {
   "cell_type": "code",
   "execution_count": 136,
   "metadata": {},
   "outputs": [
    {
     "name": "stdout",
     "output_type": "stream",
     "text": [
      "Generation 0\n",
      "Fitness: 117.79999999999998 total, 12 average\n",
      "['10010', '00010', '11100', '11110', '11011', '11010', '11000', '10010', '10000', '11011']\n",
      "\n",
      "Generation 1\n",
      "Fitness: 181.6 total, 18 average\n",
      "['11010', '10100', '11100', '11000', '10010', '10000', '10010', '10010', '10000', '10010']\n",
      "mutating bit 2 of 10100\n",
      "10000\n",
      "mutating bit 1 of 10010\n",
      "11010\n",
      "mutating bit 1 of 10010\n",
      "11010\n",
      "\n",
      "Generation 2\n",
      "Fitness: 180.0 total, 18 average\n",
      "['10100', '10000', '11000', '10000', '10000', '11010', '11010', '11000', '10010', '10010']\n",
      "\n",
      "Generation 3\n",
      "Fitness: 193.60000000000002 total, 19 average\n",
      "['11000', '10000', '10010', '11010', '10000', '10010', '10000', '10000', '10010', '11000']\n",
      "mutating bit 1 of 11000\n",
      "10000\n",
      "\n",
      "Generation 4\n",
      "Fitness: 210.40000000000003 total, 21 average\n",
      "['10000', '10010', '10000', '10000', '10000', '11010', '10000', '10010', '10000', '10000']\n",
      "\n",
      "Generation 5\n",
      "Fitness: 215.20000000000002 total, 22 average\n",
      "['10000', '10000', '11000', '10010', '10000', '10000', '10000', '10000', '10000', '10000']\n",
      "\n",
      "Generation 6\n",
      "Fitness: 224.00000000000003 total, 22 average\n",
      "['10000', '10000', '10000', '10000', '10000', '10000', '10000', '10000', '10000', '10000']\n",
      "mutating bit 0 of 10000\n",
      "00000\n",
      "\n",
      "Generation 7\n",
      "Fitness: 201.60000000000002 total, 20 average\n",
      "['00000', '10000', '10000', '10000', '10000', '10000', '10000', '10000', '10000', '10000']\n",
      "mutating bit 1 of 10000\n",
      "11000\n",
      "\n",
      "Generation 8\n",
      "Fitness: 216.00000000000003 total, 22 average\n",
      "['10000', '10000', '10000', '10000', '10000', '10000', '10000', '10000', '11000', '10000']\n",
      "mutating bit 1 of 10000\n",
      "11000\n",
      "\n",
      "Generation 9\n",
      "Fitness: 208.00000000000003 total, 21 average\n",
      "['10000', '10000', '10000', '11000', '10000', '10000', '10000', '10000', '10000', '11000']\n",
      "mutating bit 0 of 10000\n",
      "00000\n",
      "mutating bit 3 of 11000\n",
      "11010\n",
      "\n",
      "Generation 10\n",
      "Fitness: 181.60000000000002 total, 18 average\n",
      "['10000', '00000', '10000', '10000', '10000', '10000', '10000', '11010', '11000', '10000']\n",
      "mutating bit 3 of 10000\n",
      "10010\n",
      "\n",
      "Generation 11\n",
      "Fitness: 214.40000000000003 total, 21 average\n",
      "['10000', '10000', '10010', '11000', '10000', '10010', '10000', '10000', '10000', '10000']\n",
      "mutating bit 2 of 10010\n",
      "10110\n",
      "\n",
      "Generation 12\n",
      "Fitness: 210.4 total, 21 average\n",
      "['10000', '11000', '10000', '10000', '10000', '10000', '10000', '10110', '10010', '10000']\n",
      "\n",
      "Generation 13\n",
      "Fitness: 203.20000000000002 total, 20 average\n",
      "['11000', '10000', '10000', '10000', '10000', '10000', '11000', '10000', '10110', '10000']\n",
      "mutating bit 0 of 10000\n",
      "00000\n",
      "\n",
      "Generation 14\n",
      "Fitness: 177.60000000000002 total, 18 average\n",
      "['00000', '10000', '11000', '10000', '10000', '10000', '10000', '11000', '10000', '11000']\n",
      "mutating bit 2 of 10000\n",
      "10100\n",
      "\n",
      "Generation 15\n",
      "Fitness: 213.60000000000002 total, 21 average\n",
      "['10000', '10000', '10000', '10000', '10000', '11000', '10000', '10000', '10000', '10100']\n",
      "mutating bit 1 of 10000\n",
      "11000\n",
      "\n",
      "Generation 16\n",
      "Fitness: 200.00000000000003 total, 20 average\n",
      "['10000', '10000', '10000', '10000', '10000', '11000', '11000', '10000', '11000', '10000']\n",
      "mutating bit 1 of 10000\n",
      "11000\n",
      "\n",
      "Generation 17\n",
      "Fitness: 216.00000000000003 total, 22 average\n",
      "['10000', '10000', '10000', '10000', '11000', '10000', '10000', '10000', '10000', '10000']\n",
      "\n",
      "Generation 18\n",
      "Fitness: 208.00000000000003 total, 21 average\n",
      "['10000', '10000', '10000', '11000', '10000', '10000', '10000', '10000', '11000', '10000']\n",
      "mutating bit 0 of 10000\n",
      "00000\n",
      "mutating bit 1 of 00000\n",
      "01000\n",
      "mutating bit 2 of 10000\n",
      "10100\n",
      "mutating bit 1 of 10000\n",
      "11000\n",
      "mutating bit 1 of 10000\n",
      "11000\n",
      "mutating bit 3 of 11000\n",
      "11010\n",
      "\n",
      "Generation 19\n",
      "Fitness: 188.8 total, 19 average\n",
      "['10000', '10000', '10000', '01000', '10100', '10000', '11000', '10000', '11000', '11010']\n",
      "mutating bit 2 of 11000\n",
      "11100\n",
      "\n"
     ]
    }
   ],
   "source": [
    "def print_generation(pb, fitness):\n",
    "    print(\"Fitness: \" + str(sum(fitness)) + \" total, \" + str(round(sum(fitness) / len(fitness))) + \" average\")\n",
    "    print(pb)\n",
    "\n",
    "pb = create_population(10)\n",
    "    \n",
    "for gen in range(20):\n",
    "    print(\"Generation \" + str(gen))\n",
    "    fitness = calculate_fitness(pb)\n",
    "    print_generation(pb, fitness)\n",
    "    mating_chances = calculate_cum_mating_chances(fitness)\n",
    "    pb = mate(pb, mating_chances)\n",
    "    pb = mutate(pb)\n",
    "    print()"
   ]
  },
  {
   "cell_type": "code",
   "execution_count": null,
   "metadata": {},
   "outputs": [],
   "source": []
  },
  {
   "cell_type": "code",
   "execution_count": null,
   "metadata": {},
   "outputs": [],
   "source": []
  }
 ],
 "metadata": {
  "kernelspec": {
   "display_name": "Python 3",
   "language": "python",
   "name": "python3"
  },
  "language_info": {
   "codemirror_mode": {
    "name": "ipython",
    "version": 3
   },
   "file_extension": ".py",
   "mimetype": "text/x-python",
   "name": "python",
   "nbconvert_exporter": "python",
   "pygments_lexer": "ipython3",
   "version": "3.8.5"
  }
 },
 "nbformat": 4,
 "nbformat_minor": 4
}
