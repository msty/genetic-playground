{
 "cells": [
  {
   "cell_type": "markdown",
   "metadata": {},
   "source": [
    "Genetic algorithm for maximising the amount of \"1\"s in a 20-digit binary string."
   ]
  },
  {
   "cell_type": "code",
   "execution_count": 11,
   "metadata": {},
   "outputs": [],
   "source": [
    "from IPython.display import Image\n",
    "from IPython.core.display import HTML \n",
    "# paper https://www.whitman.edu/Documents/Academics/Mathematics/2014/carrjk.pdf"
   ]
  },
  {
   "cell_type": "code",
   "execution_count": 12,
   "metadata": {},
   "outputs": [],
   "source": [
    "from random import randrange, choices"
   ]
  },
  {
   "cell_type": "code",
   "execution_count": 13,
   "metadata": {},
   "outputs": [],
   "source": [
    "def create_population(psize):\n",
    "    population = []\n",
    "    for i in range(psize):\n",
    "        population.append(''.join(str(randrange(2)) for i in range(20)))\n",
    "        \n",
    "    return population"
   ]
  },
  {
   "cell_type": "code",
   "execution_count": 14,
   "metadata": {},
   "outputs": [],
   "source": [
    "def object_fitness(x):\n",
    "    return sum(int(i) * 10 for i in list(x))\n",
    "\n",
    "def calculate_fitness(population):\n",
    "    f = []\n",
    "    for i in range(len(population)):\n",
    "        f.append(object_fitness(population[i]))\n",
    "        \n",
    "    return f"
   ]
  },
  {
   "cell_type": "code",
   "execution_count": 15,
   "metadata": {},
   "outputs": [],
   "source": [
    "# calculating cumulative mating chances, since this is a way to speed up random.choices() function\n",
    "def calculate_cum_mating_chances(population, fitness):\n",
    "    mating_chances = []\n",
    "    sum_fitness = sum(fitness)\n",
    "    intermediate_sum = 0\n",
    "\n",
    "    for i in range(len(population)):\n",
    "        #intermediate_sum += round(100 * fitness[i] / sum_fitness)\n",
    "        intermediate_sum += fitness[i]\n",
    "        #print(fitness[i], round(100 * fitness[i] / sum_fitness))\n",
    "        mating_chances.append(intermediate_sum)\n",
    "    \n",
    "    return mating_chances"
   ]
  },
  {
   "cell_type": "code",
   "execution_count": 16,
   "metadata": {},
   "outputs": [],
   "source": [
    "def mate(population, mating_chances):\n",
    "    psize = len(population)\n",
    "    parent_per_mating = 2\n",
    "    offsprings = []\n",
    "    for i in range(round(psize/parent_per_mating)):\n",
    "        parent1 = choices(range(psize), cum_weights=mating_chances, k=1)[0]\n",
    "        parent2 = choices(range(psize), cum_weights=mating_chances, k=1)[0]    \n",
    "        while parent1 == parent2:\n",
    "            parent2 = choices(range(psize), cum_weights=mating_chances, k=1)[0]\n",
    "\n",
    "        cut = randrange(1, len(population[parent1]) - 1)\n",
    "        offspring1 = population[parent1][0:cut] + population[parent2][cut:]\n",
    "        offspring2 = population[parent2][0:cut] + population[parent1][cut:]\n",
    "        offsprings.append(offspring1)\n",
    "        offsprings.append(offspring2);\n",
    "    \n",
    "    return offsprings"
   ]
  },
  {
   "cell_type": "code",
   "execution_count": 17,
   "metadata": {},
   "outputs": [],
   "source": [
    "def mutate(population):\n",
    "    for i in range(len(population)):\n",
    "        for j in range(len(population[0])):\n",
    "            if randrange(1000) <= 3:\n",
    "                #print(\"mutating bit \" + str(j) + \" of \" + population[i])\n",
    "                temp = list(population[i])\n",
    "                temp[j] = \"0\" if temp[j] == \"1\" else \"1\"\n",
    "                population[i] = ''.join(temp)\n",
    "                #print(population[i])\n",
    "    \n",
    "    return population"
   ]
  },
  {
   "cell_type": "code",
   "execution_count": 18,
   "metadata": {},
   "outputs": [],
   "source": [
    "def print_generation(gen, population, fitness):\n",
    "    print(\"Generation \" + str(gen) + \" Fitness: \" + str(sum(fitness)) + \" total, \" + str(round(sum(fitness) / (1+len(fitness)))) + \" average\")\n",
    "    #print(population)\n",
    "\n",
    "population = create_population(50)\n",
    "gen_log = []\n",
    "number_of_perfects = []\n",
    "\n",
    "for gen in range(2000):\n",
    "    fitness = calculate_fitness(population)\n",
    "    #print_generation(gen, population, fitness)\n",
    "    gen_log.append(round(sum(fitness) / len(fitness)))\n",
    "    number_of_perfects.append(sum(1 for i in population if i == '11111111111111111111'))\n",
    "    mating_chances = calculate_cum_mating_chances(population, fitness)\n",
    "    #print(fitness)\n",
    "    #print(mating_chances)\n",
    "    population = mate(population, mating_chances)\n",
    "    population = mutate(population)"
   ]
  },
  {
   "cell_type": "code",
   "execution_count": 19,
   "metadata": {},
   "outputs": [
    {
     "data": {
      "image/png": "[encoded data removed]",
      "text/plain": [
       "<Figure size 432x288 with 1 Axes>"
      ]
     },
     "metadata": {
      "needs_background": "light"
     },
     "output_type": "display_data"
    },
    {
     "data": {
      "image/png": "[encoded data removed]",
      "text/plain": [
       "<Figure size 432x288 with 1 Axes>"
      ]
     },
     "metadata": {
      "needs_background": "light"
     },
     "output_type": "display_data"
    }
   ],
   "source": [
    "%matplotlib inline \n",
    "import numpy as np\n",
    "import pandas as pd\n",
    "import matplotlib.pyplot as plt\n",
    "from collections import Counter\n",
    "\n",
    "plt.plot(range(len(gen_log)), gen_log)\n",
    "plt.plot(range(len(number_of_perfects)), number_of_perfects)\n",
    "plt.show()\n",
    "\n",
    "numbers = [int(i, 2) for i in population]\n",
    "labels, values = zip(*Counter(numbers).items())\n",
    "\n",
    "indexes = np.arange(len(labels))\n",
    "width = 1\n",
    "\n",
    "plt.bar(indexes, values, width)\n",
    "plt.xticks(indexes + width * 0.5, labels)\n",
    "plt.show()\n"
   ]
  },
  {
   "cell_type": "code",
   "execution_count": null,
   "metadata": {},
   "outputs": [],
   "source": []
  },
  {
   "cell_type": "code",
   "execution_count": null,
   "metadata": {},
   "outputs": [],
   "source": []
  }
 ],
 "metadata": {
  "kernelspec": {
   "display_name": "Python 3",
   "language": "python",
   "name": "python3"
  },
  "language_info": {
   "codemirror_mode": {
    "name": "ipython",
    "version": 3
   },
   "file_extension": ".py",
   "mimetype": "text/x-python",
   "name": "python",
   "nbconvert_exporter": "python",
   "pygments_lexer": "ipython3",
   "version": "3.8.5"
  }
 },
 "nbformat": 4,
 "nbformat_minor": 4
}
